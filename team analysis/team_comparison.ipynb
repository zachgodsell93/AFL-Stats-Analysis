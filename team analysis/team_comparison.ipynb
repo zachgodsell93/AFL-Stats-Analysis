{
 "cells": [
  {
   "cell_type": "code",
   "execution_count": 1,
   "metadata": {},
   "outputs": [],
   "source": [
    "import pandas as pd \n",
    "import requests\n",
    "import json\n",
    "import numpy as np\n",
    "import matplotlib.pyplot as plt\n",
    "from sqlalchemy import create_engine\n",
    "import os\n",
    "from db import query_to_df\n"
   ]
  },
  {
   "cell_type": "code",
   "execution_count": 2,
   "metadata": {},
   "outputs": [],
   "source": [
    "# Set variables\n",
    "season_id = 52"
   ]
  },
  {
   "cell_type": "code",
   "execution_count": 3,
   "metadata": {},
   "outputs": [
    {
     "name": "stdout",
     "output_type": "stream",
     "text": [
      "<class 'pandas.core.frame.DataFrame'>\n",
      "RangeIndex: 216 entries, 0 to 215\n",
      "Data columns (total 23 columns):\n",
      " #   Column                  Non-Null Count  Dtype              \n",
      "---  ------                  --------------  -----              \n",
      " 0   id                      216 non-null    int64              \n",
      " 1   round_id                216 non-null    int64              \n",
      " 2   comp_season_id          216 non-null    int64              \n",
      " 3   round_number            216 non-null    int64              \n",
      " 4   venue                   216 non-null    object             \n",
      " 5   venue_abbreviation      216 non-null    object             \n",
      " 6   venue_state             216 non-null    object             \n",
      " 7   utc_start_time          216 non-null    datetime64[ns, UTC]\n",
      " 8   status                  216 non-null    object             \n",
      " 9   home_team_id            216 non-null    int64              \n",
      " 10  home_team_name          216 non-null    object             \n",
      " 11  home_team_abbreviation  216 non-null    object             \n",
      " 12  home_team_nickname      216 non-null    object             \n",
      " 13  home_team_goals         216 non-null    int64              \n",
      " 14  home_team_behinds       216 non-null    int64              \n",
      " 15  home_team_total         216 non-null    int64              \n",
      " 16  away_team_id            216 non-null    int64              \n",
      " 17  away_team_name          216 non-null    object             \n",
      " 18  away_team_abbreviation  216 non-null    object             \n",
      " 19  away_team_nickname      216 non-null    object             \n",
      " 20  away_team_goals         216 non-null    int64              \n",
      " 21  away_team_behinds       216 non-null    int64              \n",
      " 22  away_team_total         216 non-null    int64              \n",
      "dtypes: datetime64[ns, UTC](1), int64(12), object(10)\n",
      "memory usage: 38.9+ KB\n"
     ]
    }
   ],
   "source": [
    "# Get fixture for all teams \n",
    "fixture_df = query_to_df(f\"SELECT * FROM afl_fixture WHERE comp_season_id = {season_id}\")\n",
    "fixture_df.info()"
   ]
  }
 ],
 "metadata": {
  "kernelspec": {
   "display_name": "venv",
   "language": "python",
   "name": "python3"
  },
  "language_info": {
   "codemirror_mode": {
    "name": "ipython",
    "version": 3
   },
   "file_extension": ".py",
   "mimetype": "text/x-python",
   "name": "python",
   "nbconvert_exporter": "python",
   "pygments_lexer": "ipython3",
   "version": "3.11.2"
  }
 },
 "nbformat": 4,
 "nbformat_minor": 2
}
